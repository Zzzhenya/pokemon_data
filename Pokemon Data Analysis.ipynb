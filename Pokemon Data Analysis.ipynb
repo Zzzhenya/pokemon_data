{
  "nbformat": 4,
  "nbformat_minor": 0,
  "metadata": {
    "colab": {
      "provenance": [],
      "include_colab_link": true
    },
    "kernelspec": {
      "name": "python3",
      "display_name": "Python 3"
    },
    "language_info": {
      "name": "python"
    }
  },
  "cells": [
    {
      "cell_type": "markdown",
      "metadata": {
        "id": "view-in-github",
        "colab_type": "text"
      },
      "source": [
        "<a href=\"https://colab.research.google.com/github/Zzzhenya/pokemon_data/blob/readme_edits/Pokemon%20Data%20Analysis.ipynb\" target=\"_parent\"><img src=\"https://colab.research.google.com/assets/colab-badge.svg\" alt=\"Open In Colab\"/></a>"
      ]
    },
    {
      "cell_type": "markdown",
      "source": [
        "# The Complete Pokemon Dataset"
      ],
      "metadata": {
        "id": "dNMx96DiKTyq"
      }
    },
    {
      "cell_type": "markdown",
      "source": [
        "## Task"
      ],
      "metadata": {
        "id": "d7kdQrgmwaSk"
      }
    },
    {
      "cell_type": "code",
      "source": [
        "import pandas"
      ],
      "metadata": {
        "id": "nNmbGq-R1b1h"
      },
      "execution_count": null,
      "outputs": []
    },
    {
      "cell_type": "markdown",
      "source": [
        "Discover which pokemons would make the best team.\n",
        "\n",
        "1. Have a look at the variables, understand what they are.\n",
        "2. Formulate several research questions. Here is some inspiration:\n",
        "    - How does height and weight of a Pokemon correlate with its various base stats?\n",
        "    - What factors influence the Experience Growth and Egg Steps? Are these quantities correlated?\n",
        "    - Which type is the strongest overall? Which is the weakest?\n",
        "    - In what ways are legendary pokemon different from the rest?\n",
        "3. For each question:\n",
        "    - Make plots and/or compute statistics.\n",
        "    - Write a short conclusion, refer to the justifications you found in the data.\n"
      ],
      "metadata": {
        "id": "KXFeuYX3BXIL"
      }
    },
    {
      "cell_type": "markdown",
      "source": [
        "## Dataset"
      ],
      "metadata": {
        "id": "bNBs_9cZKbHw"
      }
    },
    {
      "cell_type": "markdown",
      "source": [
        "_Source: https://www.kaggle.com/datasets/rounakbanik/pokemon_\n",
        "\n",
        "This dataset contains information on all 802 Pokemon from all Seven Generations of Pokemon.\n",
        "\n",
        "The information contained in this dataset include Base Stats, Performance against Other Types, Height, Weight, Classification, Egg Steps, Experience Points, Abilities, etc.\n",
        "\n",
        "Variables:\n",
        "- name: The English name of the Pokemon\n",
        "- japanese_name: The Original Japanese name of the Pokemon\n",
        "- pokedex_number: The entry number of the Pokemon in the National Pokedex\n",
        "- percentage_male: The percentage of the species that are male. Blank if the Pokemon is genderless.\n",
        "- type1: The Primary Type of the Pokemon\n",
        "- type2: The Secondary Type of the Pokemon\n",
        "- classification: The Classification of the Pokemon as described by the Sun and Moon Pokedex\n",
        "- height_m: Height of the Pokemon in metres\n",
        "    weight_kg: The Weight of the Pokemon in kilograms\n",
        "- capture_rate: Capture Rate of the Pokemon\n",
        "    baseeggsteps: The number of steps required to hatch an egg of the Pokemon\n",
        "- abilities: A stringified list of abilities that the Pokemon is capable of having\n",
        "- experience_growth: The Experience Growth of the Pokemon\n",
        "- base_happiness: Base Happiness of the Pokemon\n",
        "- against_?: Eighteen features that denote the amount of damage taken against an attack of a particular type\n",
        "- hp: The Base HP of the Pokemon\n",
        "- attack: The Base Attack of the Pokemon\n",
        "- defense: The Base Defense of the Pokemon\n",
        "- sp_attack: The Base Special Attack of the Pokemon\n",
        "- sp_defense: The Base Special Defense of the Pokemon\n",
        "- speed: The Base Speed of the Pokemon\n",
        "- generation: The numbered generation which the Pokemon was first introduced\n",
        "- is_legendary: Denotes if the Pokemon is legendary.\n",
        "\n",
        "\n"
      ],
      "metadata": {
        "id": "fRQT1-1nKgi7"
      }
    },
    {
      "cell_type": "markdown",
      "source": [
        "## Analysis"
      ],
      "metadata": {
        "id": "X2hBjJOJwdzI"
      }
    },
    {
      "cell_type": "code",
      "source": [
        "import pandas as pd\n",
        "import seaborn as sns\n",
        "\n",
        "\n",
        "# From https://drive.google.com/file/d/1ayvCVXaCHsXUsn8TDGRiay0v5SKyTRDH/view\n",
        "df = pd.read_csv(\n",
        "    \"https://drive.google.com/uc?id=1ayvCVXaCHsXUsn8TDGRiay0v5SKyTRDH\",\n",
        ")\n",
        "df.shape"
      ],
      "metadata": {
        "id": "1dq6peBnBPY4"
      },
      "execution_count": null,
      "outputs": []
    },
    {
      "cell_type": "code",
      "source": [
        "pd. __version__ \n",
        "sns.__version__"
      ],
      "metadata": {
        "id": "p9JlelO52DXq"
      },
      "execution_count": null,
      "outputs": []
    },
    {
      "cell_type": "code",
      "source": [
        "import matplotlib.pyplot as plt\n",
        "\n",
        "fig, ax = plt.subplots(figsize=(25,10))\n",
        "sns.heatmap(df.corr(method=\"kendall\"), annot=True, fmt=\".3f\", ax=ax);"
      ],
      "metadata": {
        "id": "qDJFhqXUB8SZ"
      },
      "execution_count": null,
      "outputs": []
    },
    {
      "cell_type": "code",
      "source": [
        "import matplotlib"
      ],
      "metadata": {
        "id": "e06bxsoX2yxm"
      },
      "execution_count": null,
      "outputs": []
    },
    {
      "cell_type": "code",
      "source": [
        "matplotlib.__version__"
      ],
      "metadata": {
        "id": "w2mAmF0d3CQL"
      },
      "execution_count": null,
      "outputs": []
    },
    {
      "cell_type": "code",
      "source": [
        "df.columns"
      ],
      "metadata": {
        "id": "-w00PzG8LO0d"
      },
      "execution_count": null,
      "outputs": []
    },
    {
      "cell_type": "markdown",
      "source": [
        "\n",
        "\n",
        "Type/Strength Matrix\n",
        "\n",
        "1.   'against_bug',\n",
        "2.   'against_dark', \n",
        "3. 'against_dragon',\n",
        "4. 'against_electric',\n",
        "5.  'against_fairy', \n",
        "6. 'against_fight', \n",
        "7. 'against_fire',\n",
        "8. 'against_flying', \n",
        "9. 'against_ghost', \n",
        "10. 'against_grass', \n",
        "11. 'against_ground',\n",
        "12. 'against_ice', \n",
        "13. 'against_normal', \n",
        "14. 'against_poison', \n",
        "15. 'against_psychic',\n",
        "16. 'against_rock', \n",
        "17. 'against_steel', \n",
        "18. 'against_water', \n",
        "\n",
        "\n",
        "Base stats\n",
        "\n",
        "* 'base_total',  = hp +\tattack + defense +\tsp_ttack +\tsp_defense + speed\t\n",
        "* 'hp',\n",
        "* 'attack',\n",
        "* 'defense', \n",
        "* 'sp_attack', \n",
        "* 'sp_defense', \n",
        "* 'speed', \n",
        "* 'base_egg_steps', \n",
        "* 'base_happiness', \n",
        "* 'experience_growth', \n",
        "* 'capture_rate',\n",
        "\n",
        "About the Pokemon\n",
        "\n",
        "\n",
        "* 'name', \n",
        "* 'pokedex_number',\n",
        "* 'japanese_name', \n",
        "* 'generation', \n",
        "* 'classfication', \n",
        "* 'is_legendary'\n",
        "* 'abilities'\n",
        "* 'type1', \n",
        "* 'type2', \n",
        "* 'height_m', \n",
        "* 'weight_kg',\n",
        "* 'percentage_male', \n",
        "\n",
        "\n",
        "\n",
        "\n",
        "\n",
        "\n",
        "\n",
        "\n",
        "\n"
      ],
      "metadata": {
        "id": "2jF9li9UR5BE"
      }
    },
    {
      "cell_type": "code",
      "source": [
        "\n",
        "pokemon = df[['pokedex_number','name','japanese_name', 'generation','classfication',\n",
        "                    'is_legendary','abilities','type1','type2','height_m','weight_kg','percentage_male',\n",
        "                    'base_egg_steps','base_happiness','capture_rate','experience_growth',]]\n",
        "pokemon\n",
        "\n",
        "pokemon_with_stats = df[['pokedex_number','name','japanese_name', 'generation','classfication',\n",
        "                    'is_legendary','abilities','type1','type2','height_m','weight_kg','percentage_male',\n",
        "                    'base_egg_steps','base_happiness','capture_rate','experience_growth','hp',\n",
        "                    'attack', 'defense', 'sp_attack', 'sp_defense','speed', 'base_total']]"
      ],
      "metadata": {
        "id": "D_-H6CE-Pwgj"
      },
      "execution_count": null,
      "outputs": []
    },
    {
      "cell_type": "code",
      "source": [
        "pokemon.describe()\n"
      ],
      "metadata": {
        "id": "xptgYiubV_5K"
      },
      "execution_count": null,
      "outputs": []
    },
    {
      "cell_type": "code",
      "source": [
        "# hp\n",
        "pokemon_with_stats.corr().loc['hp'].sort_values(ascending = False)\n",
        "#Question: How does height and weight of a Pokemon correlate with its various base stats?\n",
        "pokemon_with_stats.corr().loc['height_m'].sort_values(ascending = False)"
      ],
      "metadata": {
        "id": "0tfKs-etUDtf"
      },
      "execution_count": null,
      "outputs": []
    },
    {
      "cell_type": "code",
      "source": [
        "#Question: How does weight variate against height\n",
        "sns.lmplot(data = pokemon_with_stats, x =\"height_m\", y = \"weight_kg\")\n",
        "\n",
        "print(\"Height in m is has a positive association with weight in kg.\\nHeight has a negative assiciation with base happiness.\")\n",
        "print(\"Taller the pokemon, higher the weight. Taller the pokemon less happy they are.\")"
      ],
      "metadata": {
        "id": "8ljqafDaB0sH"
      },
      "execution_count": null,
      "outputs": []
    },
    {
      "cell_type": "code",
      "source": [
        "sns.scatterplot(data=pokemon_with_stats, x=\"weight_kg\", y = \"base_total\",  hue = \"is_legendary\").set(title=\"weight_kg vs base_total\")\n",
        "pokemon_with_stats.corr().loc['base_total'].sort_values(ascending = False)\n",
        "print(\"\\nBase total has high positive correlation with, sp_attack,attack, sp_defense,defense, hp and speed.\\nThis makes sense since base total is defined by the sum of these correlated fields.\\n\")\n",
        "print(\"\\nLegendary pokemon seems to have higher base total in general\")"
      ],
      "metadata": {
        "id": "DFU3xX6VsUr8"
      },
      "execution_count": null,
      "outputs": []
    },
    {
      "cell_type": "code",
      "source": [
        "\n",
        "print(\"Weight unknown Pokemon:\",pokemon_with_stats.weight_kg.isna().sum())\n",
        "print(\"Height unknown Pokemon:\",pokemon_with_stats.height_m.isna().sum())\n",
        "# Question: Are the Pokemon with null weight the same pokemon who has null height?\n",
        "#exploring the null weight/height pokemon\n",
        "print(pokemon_with_stats.loc[pokemon_with_stats.weight_kg.isna()==True][[\"name\",\"generation\",\"is_legendary\", \"pokedex_number\"]])\n",
        "print(pokemon_with_stats.loc[pokemon_with_stats.height_m.isna()==True][[\"name\",\"generation\",\"is_legendary\", \"pokedex_number\"]])\n",
        "print(\"Most of the null weight/height pokemon are from 1st generation and are not legendary pokemon\")"
      ],
      "metadata": {
        "id": "sZpTOn-1KeSG"
      },
      "execution_count": null,
      "outputs": []
    },
    {
      "cell_type": "code",
      "source": [
        "#Hypothesis 1: Higher weighted/Tall Pokemons have higher stat\n",
        "\n",
        "#Exploring all pokemon stats against weight/height \n",
        "#'hp','attack','defense','sp_attack','sp_defense',\n",
        "fig = plt.figure(figsize=(30, 12))\n",
        "spec = fig.add_gridspec(ncols=5, nrows=2)\n",
        "\n",
        "#weight\n",
        "ax0 = fig.add_subplot(spec[0, 0])\n",
        "sns.scatterplot(data=pokemon_with_stats, x=\"weight_kg\", y = \"hp\", hue = \"is_legendary\", ax=ax0).set(title=\"weight_kg vs hp\")\n",
        "ax1 = fig.add_subplot(spec[0, 1])\n",
        "sns.scatterplot(data=pokemon_with_stats, x=\"weight_kg\", y = \"attack\",  hue = \"is_legendary\", ax=ax1).set(title=\"weight_kg vs attack\")\n",
        "ax2 = fig.add_subplot(spec[0, 2])\n",
        "sns.scatterplot(data=pokemon_with_stats, x=\"weight_kg\", y = \"defense\",  hue = \"is_legendary\", ax=ax2).set(title=\"weight_kg vs defense\")\n",
        "ax3 = fig.add_subplot(spec[0, 3])\n",
        "sns.scatterplot(data=pokemon_with_stats, x=\"weight_kg\", y = \"sp_attack\",  hue = \"is_legendary\", ax=ax3).set(title=\"weight_kg vs sp_attack\")\n",
        "ax4 = fig.add_subplot(spec[0, 4])\n",
        "sns.scatterplot(data=pokemon_with_stats, x=\"weight_kg\", y = \"sp_defense\",  hue = \"is_legendary\", ax=ax4).set(title=\"weight_kg vs sp_defense\")\n",
        "\n",
        "#height\n",
        "ax0 = fig.add_subplot(spec[1, 0])\n",
        "sns.scatterplot(data=pokemon_with_stats, x=\"height_m\", y = \"hp\",  hue = \"is_legendary\", ax=ax0).set(title=\"height_m vs hp\")\n",
        "ax1 = fig.add_subplot(spec[1, 1])\n",
        "sns.scatterplot(data=pokemon_with_stats, x=\"height_m\", y = \"attack\",  hue = \"is_legendary\", ax=ax1).set(title=\"height_m vs attack\")\n",
        "ax2 = fig.add_subplot(spec[1, 2])\n",
        "sns.scatterplot(data=pokemon_with_stats, x=\"height_m\", y = \"defense\",  hue = \"is_legendary\", ax=ax2).set(title=\"height_m vs defense\")\n",
        "ax3 = fig.add_subplot(spec[1, 3])\n",
        "sns.scatterplot(data=pokemon_with_stats, x=\"height_m\", y = \"sp_attack\",  hue = \"is_legendary\", ax=ax3).set(title=\"height_m vs sp_attack\")\n",
        "ax4 = fig.add_subplot(spec[1, 4])\n",
        "sns.scatterplot(data=pokemon_with_stats, x=\"height_m\", y = \"sp_defense\",  hue = \"is_legendary\", ax=ax4).set(title=\"height_m vs sp_defense\")\n",
        "\n",
        "\n",
        "fig.suptitle('\\nweight and height vs hp, attack, defense, sp_attack, sp_defense', fontsize = 18)"
      ],
      "metadata": {
        "id": "RGScAg1bsaHT"
      },
      "execution_count": null,
      "outputs": []
    },
    {
      "cell_type": "code",
      "source": [
        "#'base_total','speed', \"base_egg_steps\", \"base_happiness\", \"experience_growth\"\n",
        "fig = plt.figure(figsize=(30, 12))\n",
        "spec = fig.add_gridspec(ncols=5, nrows=2)\n",
        "ax0 = fig.add_subplot(spec[0, 0])\n",
        "#weight\n",
        "sns.scatterplot(data=pokemon_with_stats, x=\"weight_kg\", y = \"speed\", hue = \"is_legendary\", ax=ax0).set(title=\"weight_kg vs speed\")\n",
        "ax1 = fig.add_subplot(spec[0, 1])\n",
        "sns.scatterplot(data=pokemon_with_stats, x=\"weight_kg\", y = \"base_total\",  hue = \"is_legendary\", ax=ax1).set(title=\"weight_kg vs base_total\")\n",
        "ax2 = fig.add_subplot(spec[0, 2])\n",
        "sns.scatterplot(data=pokemon_with_stats, x=\"weight_kg\", y = \"base_egg_steps\",  hue = \"is_legendary\", ax=ax2).set(title=\"weight_kg vs base_egg_steps\")\n",
        "ax3 = fig.add_subplot(spec[0, 3])\n",
        "sns.scatterplot(data=pokemon_with_stats, x=\"weight_kg\", y = \"base_happiness\",  hue = \"is_legendary\", ax=ax3).set(title=\"weight_kg vs base_happiness\")\n",
        "ax4 = fig.add_subplot(spec[0, 4])\n",
        "sns.scatterplot(data=pokemon_with_stats, x=\"weight_kg\", y = \"experience_growth\",  hue = \"is_legendary\", ax=ax4).set(title=\"weight_kg vs experience_growth\")\n",
        "\n",
        "#height\n",
        "ax0 = fig.add_subplot(spec[1, 0])\n",
        "sns.scatterplot(data=pokemon_with_stats, x=\"height_m\", y = \"speed\",  hue = \"is_legendary\", ax=ax0).set(title=\"height_m vs speed\")\n",
        "ax1 = fig.add_subplot(spec[1, 1])\n",
        "sns.scatterplot(data=pokemon_with_stats, x=\"height_m\", y = \"base_total\",  hue = \"is_legendary\", ax=ax1).set(title=\"height_m vs base_total\")\n",
        "ax2 = fig.add_subplot(spec[1, 2])\n",
        "sns.scatterplot(data=pokemon_with_stats, x=\"height_m\", y = \"base_egg_steps\",  hue = \"is_legendary\", ax=ax2).set(title=\"height_m vs base_egg_steps\")\n",
        "ax3 = fig.add_subplot(spec[1, 3])\n",
        "sns.scatterplot(data=pokemon_with_stats, x=\"height_m\", y = \"base_happiness\",  hue = \"is_legendary\", ax=ax3).set(title=\"height_m vs base_happiness\")\n",
        "ax4 = fig.add_subplot(spec[1, 4])\n",
        "sns.scatterplot(data=pokemon_with_stats, x=\"height_m\", y = \"experience_growth\",  hue = \"is_legendary\", ax=ax4).set(title=\"height_m vs experience_growth\")\n",
        "\n",
        "\n",
        "fig.suptitle('\\nweight and height vs base_total, hp, attack, base_egg_steps, base_happiness', fontsize = 18)"
      ],
      "metadata": {
        "id": "NVt6sIsYEPSP"
      },
      "execution_count": null,
      "outputs": []
    },
    {
      "cell_type": "code",
      "source": [
        "#capture_rate'\n",
        "sns.scatterplot(data=pokemon_with_stats, x=\"weight_kg\", y = \"capture_rate\",  hue = \"is_legendary\").set(title=\"\\nweight_kg vs capture_rate\\n\")"
      ],
      "metadata": {
        "id": "qkK9bTLeO1KZ"
      },
      "execution_count": null,
      "outputs": []
    },
    {
      "cell_type": "code",
      "source": [
        "sns.scatterplot(data=pokemon_with_stats, x=\"generation\", y = \"capture_rate\",  hue = \"is_legendary\").set(title=\"\\ngeneration vs capture_rate\\n\")"
      ],
      "metadata": {
        "id": "Ruha6r9EPK5g"
      },
      "execution_count": null,
      "outputs": []
    },
    {
      "cell_type": "code",
      "source": [
        "#happiness of a pokemon - Friendship, also known as Happiness, is an important invisible stat in Pokémon Sword and Shield,\n",
        "#which, as the name suggests, determines how friendly your Pokémon are with you.\n",
        "\n",
        "print(\"Even though there is a positive correlation, it doesn't seem there is clear linear trend between base stats\\n ('hp','attack','defense','sp_attack','sp_defense', 'base_total','speed')\\nagainst the weight and height of a pokemon\\n\")\n",
        "print(\"Other findings:\\n\")\n",
        "print(\"Most pokemon have a height less than 4 m and weight less than 400 kg.\\n\")\n",
        "print(\"However the hue distribution shows that there is a lesser number of legendary pokemon.\\n\")\n",
        "print(\"Base total of legendary pokemon is generally higher.\\n\")\n",
        "print(\"Base egg steps, base happiness and experience growth of pokemon are discrete values.\\n\")\n",
        "print(\"Base happiness of most legendary pokemon is very low (0), not very friendly.\\n\")\n",
        "print(\"Base egg steps of most legendary pokemon is vert high (more than 15000).\\n\")\n",
        "print(\"experiene growth of most legendary pokemon is a fixed value (between 1.2 * 10^6 to 1.4 * 10^6).\\n\")"
      ],
      "metadata": {
        "id": "zwE7xK1qDYV6"
      },
      "execution_count": null,
      "outputs": []
    },
    {
      "cell_type": "code",
      "source": [
        "pokemon_with_stats.corr().loc['is_legendary'].sort_values(ascending = False)\n"
      ],
      "metadata": {
        "id": "5d7htg-0Fn_o"
      },
      "execution_count": null,
      "outputs": []
    },
    {
      "cell_type": "code",
      "source": [
        "#explore legendary pokemon\n",
        "#explore non-legendary pokemon\n",
        "#explore by classfication\n",
        "#explore generation-wise distributions\n",
        "#type 1/type 2"
      ],
      "metadata": {
        "id": "4Ns1fvZuMlxF"
      },
      "execution_count": null,
      "outputs": []
    },
    {
      "cell_type": "code",
      "source": [
        "#generation-wise experience growth\n",
        "\n",
        "sns.scatterplot(data=pokemon_with_stats, x=\"generation\", y = \"experience_growth\", hue = \"is_legendary\"  ).set(title=\"\\ngeneration vs experience_growth\\n\")\n",
        "\n",
        "print(\"In pokemon generations 1,2,5,6,7 exprerience growth spans over 4 discrete values.\\n\")\n",
        "print(\"In pokemon generations 3 and 4 exprerience growth spans over 6 discrete values.\\n\")"
      ],
      "metadata": {
        "id": "tzm1_0rMToHV"
      },
      "execution_count": null,
      "outputs": []
    },
    {
      "cell_type": "code",
      "source": [
        "sns.scatterplot(data=pokemon_with_stats, x=\"generation\", y = \"experience_growth\", hue = \"is_legendary\", alpha = 0.1  )"
      ],
      "metadata": {
        "id": "8AH66_bkHKTM"
      },
      "execution_count": null,
      "outputs": []
    },
    {
      "cell_type": "code",
      "source": [
        "#experience growth vs type 1 of each generation\n",
        "fig = plt.figure(figsize=(35, 12))\n",
        "spec = fig.add_gridspec(ncols=5, nrows=2)\n",
        "\n",
        "#type1\n",
        "ax0 = fig.add_subplot(spec[0, 0])\n",
        "\n",
        "sns.scatterplot(data=pokemon_with_stats.loc[pokemon_with_stats.generation==1], x=\"experience_growth\", y = \"type1\", ax=ax0).set(title=\"generation 1 : experience_growth vs type 1\")\n",
        "ax1 = fig.add_subplot(spec[0, 1])\n",
        "sns.scatterplot(data=pokemon_with_stats.loc[pokemon_with_stats.generation==2], x=\"experience_growth\", y = \"type1\", ax=ax1).set(title=\"generation 2 : experience_growth vs type 1\")\n",
        "ax2 = fig.add_subplot(spec[0, 2])\n",
        "sns.scatterplot(data=pokemon_with_stats.loc[pokemon_with_stats.generation==3], x=\"experience_growth\", y = \"type1\", ax=ax2).set(title=\"generation 3 : experience_growth vs type 1\")\n",
        "ax3 = fig.add_subplot(spec[0, 3])\n",
        "sns.scatterplot(data=pokemon_with_stats.loc[pokemon_with_stats.generation==4], x=\"experience_growth\", y = \"type1\", ax=ax3).set(title=\"generation 4 : experience_growth vs type 1\")\n",
        "ax4 = fig.add_subplot(spec[0, 4])\n",
        "sns.scatterplot(data=pokemon_with_stats.loc[pokemon_with_stats.generation==5], x=\"experience_growth\", y = \"type1\", ax=ax4).set(title=\"generation 5 : experience_growth vs type 1\")\n",
        "\n",
        "#row 2\n",
        "ax5 = fig.add_subplot(spec[1, 0])\n",
        "sns.scatterplot(data=pokemon_with_stats.loc[pokemon_with_stats.generation==6], x=\"experience_growth\", y = \"type1\", ax=ax5).set(title=\"generation 6 : experience_growth vs type 1\")\n",
        "ax6 = fig.add_subplot(spec[1, 1])\n",
        "sns.scatterplot(data=pokemon_with_stats.loc[pokemon_with_stats.generation==7], x=\"experience_growth\", y = \"type1\", ax=ax6).set(title=\"generation 7 : experience_growth vs type 1\")\n",
        "\n",
        "fig.suptitle(\"\\nExperience-growth vs type 1 variation of each generation\", fontsize = 18)\n",
        "\n"
      ],
      "metadata": {
        "id": "kLvp2eQ3X-IJ"
      },
      "execution_count": null,
      "outputs": []
    },
    {
      "cell_type": "code",
      "source": [
        "#experience growth vs type 2 vs generation\n",
        "fig = plt.figure(figsize=(35, 15))\n",
        "spec = fig.add_gridspec(ncols=5, nrows=2)\n",
        "\n",
        "#row 1\n",
        "ax0 = fig.add_subplot(spec[0, 0])\n",
        "\n",
        "sns.scatterplot(data=pokemon_with_stats.loc[pokemon_with_stats.generation==1], x=\"experience_growth\", y = \"type2\", ax=ax0).set(title=\"generation 1 : experience_growth vs type 2\")\n",
        "ax1 = fig.add_subplot(spec[0, 1])\n",
        "sns.scatterplot(data=pokemon_with_stats.loc[pokemon_with_stats.generation==2], x=\"experience_growth\", y = \"type2\", ax=ax1).set(title=\"generation 2 : experience_growth vs type 2\")\n",
        "ax2 = fig.add_subplot(spec[0, 2])\n",
        "sns.scatterplot(data=pokemon_with_stats.loc[pokemon_with_stats.generation==3], x=\"experience_growth\", y = \"type2\", ax=ax2).set(title=\"generation 3 : experience_growth vs type 2\")\n",
        "ax3 = fig.add_subplot(spec[0, 3])\n",
        "sns.scatterplot(data=pokemon_with_stats.loc[pokemon_with_stats.generation==4], x=\"experience_growth\", y = \"type2\", ax=ax3).set(title=\"generation 4 : experience_growth vs type 2\")\n",
        "ax4 = fig.add_subplot(spec[0, 4])\n",
        "sns.scatterplot(data=pokemon_with_stats.loc[pokemon_with_stats.generation==5], x=\"experience_growth\", y = \"type2\", ax=ax4).set(title=\"generation 5 : experience_growth vs type 2\")\n",
        "\n",
        "#row 2\n",
        "ax5 = fig.add_subplot(spec[1, 0])\n",
        "sns.scatterplot(data=pokemon_with_stats.loc[pokemon_with_stats.generation==6], x=\"experience_growth\", y = \"type2\", ax=ax5).set(title=\"generation 6 : experience_growth vs type 2\")\n",
        "ax6 = fig.add_subplot(spec[1, 1])\n",
        "sns.scatterplot(data=pokemon_with_stats.loc[pokemon_with_stats.generation==7], x=\"experience_growth\", y = \"type2\", ax=ax6).set(title=\"generation 7 : experience_growth vs type 2\")\n",
        "\n",
        "fig.suptitle(\"\\nExperience-growth vs type 2 variation of each generation\", fontsize = 18)"
      ],
      "metadata": {
        "id": "onDulibCaPgW"
      },
      "execution_count": null,
      "outputs": []
    },
    {
      "cell_type": "code",
      "source": [
        "print(\"There seems to be more types options, both 1 and 2, in the middle eange of experience growth, except for the instance of type 2 in generation 7 pokemons.\")"
      ],
      "metadata": {
        "id": "V9E46EEJQ2mN"
      },
      "execution_count": null,
      "outputs": []
    },
    {
      "cell_type": "code",
      "source": [
        "# generation-wise base egg steps\n",
        "sns.scatterplot(data=pokemon_with_stats, x=\"generation\", y = \"base_egg_steps\", hue = \"is_legendary\"  ).set(title=\"\\ngeneration vs base_egg_steps\\n\")"
      ],
      "metadata": {
        "id": "O5uSgjbdbU3-"
      },
      "execution_count": null,
      "outputs": []
    },
    {
      "cell_type": "code",
      "source": [
        "sns.lmplot(data=pokemon_with_stats, x=\"generation\", y = \"pokedex_number\").set(title=\"\\ngeneration vs pokedex_number\\n\")\n",
        "\n",
        "print(\"Pokedex number is given to the pokemon based on the order of generation. First generation pokemon are numbered first.\")"
      ],
      "metadata": {
        "id": "Cdhc5TJWITNJ"
      },
      "execution_count": null,
      "outputs": []
    },
    {
      "cell_type": "code",
      "source": [
        "df.name.isna().sum()\n",
        "df.japanese_name.isna().sum()\n",
        "df.pokedex_number.isna().sum()\n",
        "df.type1.unique()\n",
        "df.type2.isna().sum()\n",
        "#Explore later - Who has type 2 power, who doesn't.\n",
        "df.base_egg_steps.unique()\n",
        "df.base_egg_steps.isna().sum()\n",
        "df.base_happiness.isna().sum()\n",
        "df.base_happiness.unique()\n",
        "df.experience_growth.isna().sum()\n",
        "df.experience_growth.unique()"
      ],
      "metadata": {
        "id": "tq5byjdaI2C2"
      },
      "execution_count": null,
      "outputs": []
    },
    {
      "cell_type": "markdown",
      "source": [
        "# **Conclusion**\n",
        "\n",
        "\n",
        "*   The data can be grouped into 3 sections: Pokemon information, strength matrix and stats\n",
        "\n",
        "**Considering pokemon information:**\n",
        "\n",
        "\n",
        "*   All Pokemon have a pokedex number, a name and a Japanese name.\n",
        "\n",
        "*   Pokedex number is given to the Pokemon based on the order of generation. eg.: First generation Pokemon are numbered first and then the second generation...etc.\n",
        "\n",
        "*   All Pokemon also have a type 1 power out of 18 ('grass', 'fire', 'water','bug', 'normal', 'poison', 'electric', 'ground', 'fairy', 'fighting', 'psychic','rock', 'ghost', 'ice', 'dragon', 'dark', 'steel', 'flying')\n",
        "\n",
        "*   Not all Pokemon have a type 2 power.\n",
        "\n",
        "*  Taller Pokemon(height_m) have higher weight (weight_kg), taller Pokemon have a lower base_happiness.\n",
        "\n",
        "*  Some Pokemon do not have a male percentage, weight or height. The Pokemon who do not have a height are the same Pokemon who do not have a weight.\n",
        "\n",
        "**Considering strength matrix:**\n",
        "\n",
        "*   The columns with names starting with \"against\" describe the effect of each Pokemon against another Pokemon with each of type 1 powers. This shows that the game involves Pokemon battling against each other. \n",
        "\n",
        "*  This matrix probably help users or the game decision making system in choosing the opponent Pokemon to fight.(With advantage/disadvantage/fairness)\n",
        "\n",
        "**Considering stats:** \n",
        "\n",
        "*  base_total has a positive association with hp, attack, defense, sp_ttack, sp_defense, and speed\n",
        "\n",
        "*  'base_egg_steps', 'base_happiness','experience_growth', 'capture_rate' are discrete value fields. There is a small number of clearly defined levels/values for these.\n",
        "\n",
        "> * base egg steps : 1280 , 2560 , 3840 , 5120 , 6400 , 7680 , 8960 , 10240 , 20480 , 30720\n",
        "> * base happiness : 0 , 35 , 70 , 90 , 100 , 140\n",
        "> * experience growth : 600000 , 800000 , 1000000 , 1059860 , 1250000 , 1640000  \n",
        "\n",
        "*  Base_egg_steps value is very high in legendary Pokemon (more than 15000)\n",
        "\n",
        "*  Base happiness of most legendary Pokemon is very low (0).\n",
        "\n",
        "*  Even though there are  6 discrete experience growth values, generations 1, 2, 5, 6, 7 Pokemon only have 4 values. It is only in Pokemon of generations 3, 4 the other two values are in use.\n",
        "\n",
        "*  Type1 and Type2 variation against experience growth, over generations is interesting. The common trend being few options are available for Type1,Type2 at lower experience growth levels. Though there is no clear trend of Type1,Type2 options against experience growth.\n",
        "\n",
        "*  Dataset can be further analyzed considering legendary pokemon as a special scenario. \n",
        "\n",
        "**Overall:**\n",
        "\n",
        "*  It can be concluded that some more game trends may be extracted by analyzing the dataset with more specific questions but all game rules might not be extracted from the data set. \n",
        "\n"
      ],
      "metadata": {
        "id": "T9n2wXaJBnAj"
      }
    }
  ]
}